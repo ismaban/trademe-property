{
 "cells": [
  {
   "cell_type": "markdown",
   "metadata": {},
   "source": [
    "# Analysing rental data"
   ]
  },
  {
   "cell_type": "markdown",
   "metadata": {},
   "source": [
    "Here I'll be analysing the rental data from trademe."
   ]
  },
  {
   "cell_type": "code",
   "execution_count": 6,
   "metadata": {},
   "outputs": [],
   "source": [
    "import re\n",
    "import numpy as np\n",
    "import pandas as pd\n",
    "\n",
    "import matplotlib\n",
    "import matplotlib.pyplot as plt"
   ]
  },
  {
   "cell_type": "code",
   "execution_count": 113,
   "metadata": {},
   "outputs": [],
   "source": [
    "rental_data = pd.read_csv(\"../trademe/data/wellington-flatmates.csv\")"
   ]
  },
  {
   "cell_type": "code",
   "execution_count": 114,
   "metadata": {},
   "outputs": [
    {
     "data": {
      "text/html": [
       "<div>\n",
       "<style scoped>\n",
       "    .dataframe tbody tr th:only-of-type {\n",
       "        vertical-align: middle;\n",
       "    }\n",
       "\n",
       "    .dataframe tbody tr th {\n",
       "        vertical-align: top;\n",
       "    }\n",
       "\n",
       "    .dataframe thead th {\n",
       "        text-align: right;\n",
       "    }\n",
       "</style>\n",
       "<table border=\"1\" class=\"dataframe\">\n",
       "  <thead>\n",
       "    <tr style=\"text-align: right;\">\n",
       "      <th></th>\n",
       "      <th>location</th>\n",
       "      <th>available</th>\n",
       "      <th>furnishings</th>\n",
       "      <th>current_flatmates</th>\n",
       "      <th>ideal_flatmate</th>\n",
       "      <th>parking</th>\n",
       "      <th>in_the_area</th>\n",
       "      <th>description</th>\n",
       "      <th>title</th>\n",
       "      <th>bedrooms</th>\n",
       "      <th>rent</th>\n",
       "      <th>id_number</th>\n",
       "      <th>date</th>\n",
       "      <th>view_count</th>\n",
       "    </tr>\n",
       "  </thead>\n",
       "  <tbody>\n",
       "    <tr>\n",
       "      <th>0</th>\n",
       "      <td>Grey Lynn, Auckland City, Auckland</td>\n",
       "      <td>Sun 12 Aug</td>\n",
       "      <td>Queen bed</td>\n",
       "      <td>1 existing flatmate. 1 existing flatmate. Part...</td>\n",
       "      <td>Someone who is respectabl­e, tidy, considerat­...</td>\n",
       "      <td>Free on-street parking available</td>\n",
       "      <td>Parks, shops, cafés, bars, wholefoods, superar...</td>\n",
       "      <td>2 bedroom house with 1 bathroom.</td>\n",
       "      <td>Grey Lynn, 2 bedrooms</td>\n",
       "      <td>2 bedrooms</td>\n",
       "      <td>295</td>\n",
       "      <td>Listing #:1731892840</td>\n",
       "      <td>Listed: Sun 12 Aug, 11:01 pm</td>\n",
       "      <td>11</td>\n",
       "    </tr>\n",
       "    <tr>\n",
       "      <th>1</th>\n",
       "      <td>Pakuranga, Manukau City, Auckland</td>\n",
       "      <td>Mon 13 Aug</td>\n",
       "      <td>-large laundry room, washer/dry­er/covered out...</td>\n",
       "      <td>2 existing flatmates. Profession­al couple, we...</td>\n",
       "      <td>Enjoy a wine or beer at the weekend.</td>\n",
       "      <td>NaN</td>\n",
       "      <td>Rotary walkway, shopping malls, train/bus stat...</td>\n",
       "      <td>5 bedroom house with 2 bathrooms.</td>\n",
       "      <td>Pakuranga, 5 bedrooms</td>\n",
       "      <td>5 bedrooms</td>\n",
       "      <td>360</td>\n",
       "      <td>Listing #:1731670650</td>\n",
       "      <td>Listed: Sun 12 Aug, 7:13 pm</td>\n",
       "      <td>46</td>\n",
       "    </tr>\n",
       "    <tr>\n",
       "      <th>2</th>\n",
       "      <td>Glenfield, North Shore City, Auckland</td>\n",
       "      <td>Thu 16 Aug</td>\n",
       "      <td>can be with the bed or without, two big bedsid...</td>\n",
       "      <td>3 existing flatmates. 3 family members</td>\n",
       "      <td>Female</td>\n",
       "      <td>off street</td>\n",
       "      <td>very handy to Glenfield mall, pool, gym, and m...</td>\n",
       "      <td>3 bedroom townhouse with 2 bathrooms.</td>\n",
       "      <td>Glenfield, 3 bedrooms</td>\n",
       "      <td>3 bedrooms</td>\n",
       "      <td>200</td>\n",
       "      <td>Listing #:1731670211</td>\n",
       "      <td>Listed: Sun 12 Aug, 7:12 pm</td>\n",
       "      <td>40</td>\n",
       "    </tr>\n",
       "    <tr>\n",
       "      <th>3</th>\n",
       "      <td>Mount Roskill, Auckland City, Auckland</td>\n",
       "      <td>Sun 12 Aug</td>\n",
       "      <td>Fully furnished</td>\n",
       "      <td>5 existing flatmates. All working Profession­a...</td>\n",
       "      <td>European, Indian, Student, Traveler, clean and...</td>\n",
       "      <td>Off Street</td>\n",
       "      <td>Dairy, super market, vegetable and fruit marke...</td>\n",
       "      <td>5 bedroom house with 3 bathrooms.</td>\n",
       "      <td>Mount Roskill, 5 bedrooms</td>\n",
       "      <td>5 bedrooms</td>\n",
       "      <td>180</td>\n",
       "      <td>Listing #:1731860228</td>\n",
       "      <td>Listed: Sun 12 Aug, 10:15 pm</td>\n",
       "      <td>46</td>\n",
       "    </tr>\n",
       "    <tr>\n",
       "      <th>4</th>\n",
       "      <td>Blockhouse Bay, Auckland City, Auckland</td>\n",
       "      <td>Mon 27 Aug</td>\n",
       "      <td>Fully furnished, but must bring your own bed a...</td>\n",
       "      <td>5 existing flatmates. Young working profession...</td>\n",
       "      <td>Must be clean, tidy and considerate. Young Pro...</td>\n",
       "      <td>Plenty of off-street parking.</td>\n",
       "      <td>Bus Stops, Countdown, Doctors, Beach and Ameni...</td>\n",
       "      <td>6 or more bedroom house with 3 bathrooms.</td>\n",
       "      <td>Blockhouse Bay, 6+ bedrooms</td>\n",
       "      <td>6+ bedrooms</td>\n",
       "      <td>165</td>\n",
       "      <td>Listing #:1731773304</td>\n",
       "      <td>Listed: Sun 12 Aug, 8:49 pm</td>\n",
       "      <td>39</td>\n",
       "    </tr>\n",
       "  </tbody>\n",
       "</table>\n",
       "</div>"
      ],
      "text/plain": [
       "                                  location   available  \\\n",
       "0       Grey Lynn, Auckland City, Auckland  Sun 12 Aug   \n",
       "1        Pakuranga, Manukau City, Auckland  Mon 13 Aug   \n",
       "2    Glenfield, North Shore City, Auckland  Thu 16 Aug   \n",
       "3   Mount Roskill, Auckland City, Auckland  Sun 12 Aug   \n",
       "4  Blockhouse Bay, Auckland City, Auckland  Mon 27 Aug   \n",
       "\n",
       "                                         furnishings  \\\n",
       "0                                          Queen bed   \n",
       "1  -large laundry room, washer/dry­er/covered out...   \n",
       "2  can be with the bed or without, two big bedsid...   \n",
       "3                                    Fully furnished   \n",
       "4  Fully furnished, but must bring your own bed a...   \n",
       "\n",
       "                                   current_flatmates  \\\n",
       "0  1 existing flatmate. 1 existing flatmate. Part...   \n",
       "1  2 existing flatmates. Profession­al couple, we...   \n",
       "2             3 existing flatmates. 3 family members   \n",
       "3  5 existing flatmates. All working Profession­a...   \n",
       "4  5 existing flatmates. Young working profession...   \n",
       "\n",
       "                                      ideal_flatmate  \\\n",
       "0  Someone who is respectabl­e, tidy, considerat­...   \n",
       "1               Enjoy a wine or beer at the weekend.   \n",
       "2                                             Female   \n",
       "3  European, Indian, Student, Traveler, clean and...   \n",
       "4  Must be clean, tidy and considerate. Young Pro...   \n",
       "\n",
       "                            parking  \\\n",
       "0  Free on-street parking available   \n",
       "1                               NaN   \n",
       "2                        off street   \n",
       "3                        Off Street   \n",
       "4     Plenty of off-street parking.   \n",
       "\n",
       "                                         in_the_area  \\\n",
       "0  Parks, shops, cafés, bars, wholefoods, superar...   \n",
       "1  Rotary walkway, shopping malls, train/bus stat...   \n",
       "2  very handy to Glenfield mall, pool, gym, and m...   \n",
       "3  Dairy, super market, vegetable and fruit marke...   \n",
       "4  Bus Stops, Countdown, Doctors, Beach and Ameni...   \n",
       "\n",
       "                                 description                        title  \\\n",
       "0           2 bedroom house with 1 bathroom.        Grey Lynn, 2 bedrooms   \n",
       "1          5 bedroom house with 2 bathrooms.        Pakuranga, 5 bedrooms   \n",
       "2      3 bedroom townhouse with 2 bathrooms.        Glenfield, 3 bedrooms   \n",
       "3          5 bedroom house with 3 bathrooms.    Mount Roskill, 5 bedrooms   \n",
       "4  6 or more bedroom house with 3 bathrooms.  Blockhouse Bay, 6+ bedrooms   \n",
       "\n",
       "      bedrooms  rent             id_number                          date  \\\n",
       "0   2 bedrooms   295  Listing #:1731892840  Listed: Sun 12 Aug, 11:01 pm   \n",
       "1   5 bedrooms   360  Listing #:1731670650   Listed: Sun 12 Aug, 7:13 pm   \n",
       "2   3 bedrooms   200  Listing #:1731670211   Listed: Sun 12 Aug, 7:12 pm   \n",
       "3   5 bedrooms   180  Listing #:1731860228  Listed: Sun 12 Aug, 10:15 pm   \n",
       "4  6+ bedrooms   165  Listing #:1731773304   Listed: Sun 12 Aug, 8:49 pm   \n",
       "\n",
       "   view_count  \n",
       "0          11  \n",
       "1          46  \n",
       "2          40  \n",
       "3          46  \n",
       "4          39  "
      ]
     },
     "execution_count": 114,
     "metadata": {},
     "output_type": "execute_result"
    }
   ],
   "source": [
    "rental_data.head()"
   ]
  },
  {
   "cell_type": "code",
   "execution_count": 22,
   "metadata": {},
   "outputs": [
    {
     "data": {
      "text/plain": [
       "Location:                           Henderson, Waitakere City, Auckland\n",
       "Available:                                                   Sun 12 Aug\n",
       "Furnishings:                       Room is furnished with a double bed.\n",
       "Current flatmates:    3 existing flatmates. 2 owners and 1 professio...\n",
       "Couples OK:                                                          No\n",
       "Ideal flatmate:       Tidy, cooperativ­e, single student or professi...\n",
       "Parking:                                   Off-street parking available\n",
       "In the area:                                  Train station,Bu­s, shops\n",
       "Description:                  6 or more bedroom house with 4 bathrooms.\n",
       "title                                            Henderson, 6+ bedrooms\n",
       "rent                                                      $200 per week\n",
       "id_number                                          Listing #:1731537735\n",
       "date                                        Listed: Sun 12 Aug, 4:16 pm\n",
       "view_count                                                           36\n",
       "Name: 5, dtype: object"
      ]
     },
     "execution_count": 22,
     "metadata": {},
     "output_type": "execute_result"
    }
   ],
   "source": [
    "rental_data.iloc[5,:]"
   ]
  },
  {
   "cell_type": "code",
   "execution_count": 32,
   "metadata": {},
   "outputs": [
    {
     "data": {
      "text/plain": [
       "3 bedrooms     1937\n",
       "4 bedrooms     1579\n",
       "5 bedrooms      740\n",
       "2 bedrooms      719\n",
       "6+ bedrooms     379\n",
       "1 bedroom       280\n",
       "Name: title, dtype: int64"
      ]
     },
     "execution_count": 32,
     "metadata": {},
     "output_type": "execute_result"
    }
   ],
   "source": [
    "rental_data.title.apply(lambda s: re.search(\"([\\d\\+<>]+) bedrooms?\", s).group()).value_counts()"
   ]
  },
  {
   "cell_type": "code",
   "execution_count": 40,
   "metadata": {},
   "outputs": [],
   "source": [
    "rental_data['Location:'] = rental_data['Location:'].apply(lambda s: s.replace(\", Auckland\", \"\").strip())"
   ]
  },
  {
   "cell_type": "code",
   "execution_count": 64,
   "metadata": {},
   "outputs": [],
   "source": [
    "rental_data['rent'] = rental_data.rent.apply(lambda s: int(re.search(\"\\d+\", s).group()))"
   ]
  },
  {
   "cell_type": "code",
   "execution_count": 105,
   "metadata": {},
   "outputs": [
    {
     "data": {
      "text/plain": [
       "Location:\n",
       "Ellerslie City        AxesSubplot(0.125,0.125;0.775x0.755)\n",
       "One Tree Hill City    AxesSubplot(0.125,0.125;0.775x0.755)\n",
       "Onehunga City         AxesSubplot(0.125,0.125;0.775x0.755)\n",
       "Name: rent, dtype: object"
      ]
     },
     "execution_count": 105,
     "metadata": {},
     "output_type": "execute_result"
    },
    {
     "data": {
      "image/png": "[encoded data removed]",
      "text/plain": [
       "<Figure size 432x288 with 1 Axes>"
      ]
     },
     "metadata": {},
     "output_type": "display_data"
    }
   ],
   "source": [
    "good_location = (rental_data['Location:']\n",
    "        .apply(lambda s: s in [s + \" City\" for s in ['Onehunga', 'One Tree Hill', 'Ellerslie']]))\n",
    "\n",
    "(rental_data[good_location].groupby('Location:')['rent']\n",
    "     .plot(kind = 'hist', stacked = True, legend = True, alpha = 0.6)\n",
    ")"
   ]
  },
  {
   "cell_type": "code",
   "execution_count": 106,
   "metadata": {},
   "outputs": [
    {
     "data": {
      "text/plain": [
       "Location:\n",
       "Ellerslie City        53\n",
       "One Tree Hill City     4\n",
       "Onehunga City         32\n",
       "dtype: int64"
      ]
     },
     "execution_count": 106,
     "metadata": {},
     "output_type": "execute_result"
    }
   ],
   "source": [
    "rental_data[good_location & (rental_data.rent < 210) & (rental_data.rent > 150)].groupby(\"Location:\").count().unstack()[\"Available:\"]"
   ]
  },
  {
   "cell_type": "code",
   "execution_count": 110,
   "metadata": {},
   "outputs": [
    {
     "data": {
      "text/html": [
       "<div>\n",
       "<style scoped>\n",
       "    .dataframe tbody tr th:only-of-type {\n",
       "        vertical-align: middle;\n",
       "    }\n",
       "\n",
       "    .dataframe tbody tr th {\n",
       "        vertical-align: top;\n",
       "    }\n",
       "\n",
       "    .dataframe thead th {\n",
       "        text-align: right;\n",
       "    }\n",
       "</style>\n",
       "<table border=\"1\" class=\"dataframe\">\n",
       "  <thead>\n",
       "    <tr style=\"text-align: right;\">\n",
       "      <th></th>\n",
       "      <th>Location:</th>\n",
       "      <th>Available:</th>\n",
       "      <th>Furnishings:</th>\n",
       "      <th>Current flatmates:</th>\n",
       "      <th>Couples OK:</th>\n",
       "      <th>Ideal flatmate:</th>\n",
       "      <th>Parking:</th>\n",
       "      <th>In the area:</th>\n",
       "      <th>Description:</th>\n",
       "      <th>title</th>\n",
       "      <th>rent</th>\n",
       "      <th>id_number</th>\n",
       "      <th>date</th>\n",
       "      <th>view_count</th>\n",
       "    </tr>\n",
       "  </thead>\n",
       "  <tbody>\n",
       "    <tr>\n",
       "      <th>0</th>\n",
       "      <td>Albany, North Shore City</td>\n",
       "      <td>Mon 10 Sep</td>\n",
       "      <td>Everything included except bedroom furniture</td>\n",
       "      <td>3 existing flatmates. One business-c­ouple and...</td>\n",
       "      <td>Negotiable</td>\n",
       "      <td>Fun, easy-going­, reliable, profession­al.</td>\n",
       "      <td>One on site dedicated carpark</td>\n",
       "      <td>Close to Albany village, Westfield Mall, sever...</td>\n",
       "      <td>3 bedroom townhouse with 3 bathrooms.</td>\n",
       "      <td>Albany, 3 bedrooms</td>\n",
       "      <td>270</td>\n",
       "      <td>Listing #:1731698970</td>\n",
       "      <td>Listed: Sun 12 Aug, 7:42 pm</td>\n",
       "      <td>57</td>\n",
       "    </tr>\n",
       "    <tr>\n",
       "      <th>1</th>\n",
       "      <td>Pukekohe, Franklin</td>\n",
       "      <td>Sun 12 Aug</td>\n",
       "      <td>Wardrobe, Single Bed, Study table.</td>\n",
       "      <td>2 existing flatmates. We are friendly people a...</td>\n",
       "      <td>Negotiable</td>\n",
       "      <td>Female, Tidy, Full-time working.</td>\n",
       "      <td>Garage, Off-Street­.</td>\n",
       "      <td>Short drive to Pukekohe Plaza Shopping Centre,...</td>\n",
       "      <td>2 bedroom house with 1 bathroom.</td>\n",
       "      <td>Pukekohe, 2 bedrooms</td>\n",
       "      <td>150</td>\n",
       "      <td>Listing #:1731485814</td>\n",
       "      <td>Listed: Sun 12 Aug, 2:54 pm</td>\n",
       "      <td>40</td>\n",
       "    </tr>\n",
       "    <tr>\n",
       "      <th>2</th>\n",
       "      <td>St Lukes City</td>\n",
       "      <td>Mon 13 Aug</td>\n",
       "      <td>Most whiteware provided</td>\n",
       "      <td>2 existing flatmates. 2 existing female flatma...</td>\n",
       "      <td>No</td>\n",
       "      <td>NaN</td>\n",
       "      <td>Parking on road</td>\n",
       "      <td>Mall shops, park, supermarke­t</td>\n",
       "      <td>2 bedroom house with 2 bathrooms.</td>\n",
       "      <td>St Lukes, 2 bedrooms</td>\n",
       "      <td>220</td>\n",
       "      <td>Listing #:1731567599</td>\n",
       "      <td>Listed: Sun 12 Aug, 5:01 pm</td>\n",
       "      <td>78</td>\n",
       "    </tr>\n",
       "    <tr>\n",
       "      <th>3</th>\n",
       "      <td>Flat Bush, Manukau City</td>\n",
       "      <td>Sat 8 Sep</td>\n",
       "      <td>fully furnished</td>\n",
       "      <td>2 existing flatmates. both working full time a...</td>\n",
       "      <td>No</td>\n",
       "      <td>good sense of human, honest reliable and pay h...</td>\n",
       "      <td>Street parking</td>\n",
       "      <td>shopping mall .bus stop , shops petrol station...</td>\n",
       "      <td>1 bedroom house with 2 bathrooms.</td>\n",
       "      <td>Flat Bush, 1 bedroom</td>\n",
       "      <td>180</td>\n",
       "      <td>Listing #:1731534296</td>\n",
       "      <td>Listed: Sun 12 Aug, 4:11 pm</td>\n",
       "      <td>27</td>\n",
       "    </tr>\n",
       "    <tr>\n",
       "      <th>4</th>\n",
       "      <td>City Centre City</td>\n",
       "      <td>Sun 12 Aug</td>\n",
       "      <td>NaN</td>\n",
       "      <td>1 existing flatmate.</td>\n",
       "      <td>No</td>\n",
       "      <td>NaN</td>\n",
       "      <td>NaN</td>\n",
       "      <td>NaN</td>\n",
       "      <td>2 bedroom apartment with 2 bathrooms.</td>\n",
       "      <td>City Centre, 2 bedrooms</td>\n",
       "      <td>325</td>\n",
       "      <td>Listing #:1731487095</td>\n",
       "      <td>Listed: Sun 12 Aug, 2:56 pm</td>\n",
       "      <td>76</td>\n",
       "    </tr>\n",
       "  </tbody>\n",
       "</table>\n",
       "</div>"
      ],
      "text/plain": [
       "                  Location:  Available:  \\\n",
       "0  Albany, North Shore City  Mon 10 Sep   \n",
       "1        Pukekohe, Franklin  Sun 12 Aug   \n",
       "2             St Lukes City  Mon 13 Aug   \n",
       "3   Flat Bush, Manukau City   Sat 8 Sep   \n",
       "4          City Centre City  Sun 12 Aug   \n",
       "\n",
       "                                   Furnishings:  \\\n",
       "0  Everything included except bedroom furniture   \n",
       "1            Wardrobe, Single Bed, Study table.   \n",
       "2                       Most whiteware provided   \n",
       "3                               fully furnished   \n",
       "4                                           NaN   \n",
       "\n",
       "                                  Current flatmates: Couples OK:  \\\n",
       "0  3 existing flatmates. One business-c­ouple and...  Negotiable   \n",
       "1  2 existing flatmates. We are friendly people a...  Negotiable   \n",
       "2  2 existing flatmates. 2 existing female flatma...          No   \n",
       "3  2 existing flatmates. both working full time a...          No   \n",
       "4                               1 existing flatmate.          No   \n",
       "\n",
       "                                     Ideal flatmate:  \\\n",
       "0         Fun, easy-going­, reliable, profession­al.   \n",
       "1                   Female, Tidy, Full-time working.   \n",
       "2                                                NaN   \n",
       "3  good sense of human, honest reliable and pay h...   \n",
       "4                                                NaN   \n",
       "\n",
       "                        Parking:  \\\n",
       "0  One on site dedicated carpark   \n",
       "1           Garage, Off-Street­.   \n",
       "2                Parking on road   \n",
       "3                 Street parking   \n",
       "4                            NaN   \n",
       "\n",
       "                                        In the area:  \\\n",
       "0  Close to Albany village, Westfield Mall, sever...   \n",
       "1  Short drive to Pukekohe Plaza Shopping Centre,...   \n",
       "2                     Mall shops, park, supermarke­t   \n",
       "3  shopping mall .bus stop , shops petrol station...   \n",
       "4                                                NaN   \n",
       "\n",
       "                            Description:                    title  rent  \\\n",
       "0  3 bedroom townhouse with 3 bathrooms.       Albany, 3 bedrooms   270   \n",
       "1       2 bedroom house with 1 bathroom.     Pukekohe, 2 bedrooms   150   \n",
       "2      2 bedroom house with 2 bathrooms.     St Lukes, 2 bedrooms   220   \n",
       "3      1 bedroom house with 2 bathrooms.     Flat Bush, 1 bedroom   180   \n",
       "4  2 bedroom apartment with 2 bathrooms.  City Centre, 2 bedrooms   325   \n",
       "\n",
       "              id_number                         date  view_count  \n",
       "0  Listing #:1731698970  Listed: Sun 12 Aug, 7:42 pm          57  \n",
       "1  Listing #:1731485814  Listed: Sun 12 Aug, 2:54 pm          40  \n",
       "2  Listing #:1731567599  Listed: Sun 12 Aug, 5:01 pm          78  \n",
       "3  Listing #:1731534296  Listed: Sun 12 Aug, 4:11 pm          27  \n",
       "4  Listing #:1731487095  Listed: Sun 12 Aug, 2:56 pm          76  "
      ]
     },
     "execution_count": 110,
     "metadata": {},
     "output_type": "execute_result"
    }
   ],
   "source": [
    "rental_data.head()"
   ]
  },
  {
   "cell_type": "code",
   "execution_count": null,
   "metadata": {},
   "outputs": [],
   "source": []
  },
  {
   "cell_type": "code",
   "execution_count": null,
   "metadata": {},
   "outputs": [],
   "source": []
  },
  {
   "cell_type": "code",
   "execution_count": null,
   "metadata": {},
   "outputs": [],
   "source": []
  },
  {
   "cell_type": "code",
   "execution_count": null,
   "metadata": {},
   "outputs": [],
   "source": []
  },
  {
   "cell_type": "code",
   "execution_count": null,
   "metadata": {},
   "outputs": [],
   "source": []
  },
  {
   "cell_type": "code",
   "execution_count": null,
   "metadata": {},
   "outputs": [],
   "source": []
  },
  {
   "cell_type": "code",
   "execution_count": null,
   "metadata": {},
   "outputs": [],
   "source": []
  },
  {
   "cell_type": "code",
   "execution_count": null,
   "metadata": {},
   "outputs": [],
   "source": []
  },
  {
   "cell_type": "code",
   "execution_count": null,
   "metadata": {},
   "outputs": [],
   "source": []
  },
  {
   "cell_type": "code",
   "execution_count": null,
   "metadata": {},
   "outputs": [],
   "source": []
  },
  {
   "cell_type": "code",
   "execution_count": null,
   "metadata": {},
   "outputs": [],
   "source": []
  },
  {
   "cell_type": "code",
   "execution_count": null,
   "metadata": {},
   "outputs": [],
   "source": []
  },
  {
   "cell_type": "code",
   "execution_count": null,
   "metadata": {},
   "outputs": [],
   "source": []
  },
  {
   "cell_type": "code",
   "execution_count": null,
   "metadata": {},
   "outputs": [],
   "source": []
  },
  {
   "cell_type": "code",
   "execution_count": null,
   "metadata": {},
   "outputs": [],
   "source": []
  },
  {
   "cell_type": "code",
   "execution_count": null,
   "metadata": {},
   "outputs": [],
   "source": []
  },
  {
   "cell_type": "code",
   "execution_count": null,
   "metadata": {},
   "outputs": [],
   "source": []
  }
 ],
 "metadata": {
  "kernelspec": {
   "display_name": "Python 3",
   "language": "python",
   "name": "python3"
  },
  "language_info": {
   "codemirror_mode": {
    "name": "ipython",
    "version": 3
   },
   "file_extension": ".py",
   "mimetype": "text/x-python",
   "name": "python",
   "nbconvert_exporter": "python",
   "pygments_lexer": "ipython3",
   "version": "3.6.5"
  }
 },
 "nbformat": 4,
 "nbformat_minor": 2
}
